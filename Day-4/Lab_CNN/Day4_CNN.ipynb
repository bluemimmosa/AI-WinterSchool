{
 "cells": [
  {
   "cell_type": "code",
   "execution_count": 0,
   "metadata": {
    "colab": {},
    "colab_type": "code",
    "id": "ZlgMPW32HteQ"
   },
   "outputs": [],
   "source": [
    "import random\n",
    "import numpy as np \n",
    "import matplotlib.pyplot as plt\n",
    "import torch\n",
    "import torch.nn as nn\n",
    "import torch.optim as optim\n",
    "from torch.utils.data import Dataset, DataLoader"
   ]
  },
  {
   "cell_type": "markdown",
   "metadata": {},
   "source": [
    "#### I did this lab on Google Colab, Use the below link for file\n",
    "\n",
    "[Drive Link](https://drive.google.com/open?id=1s5TFr3hrTHNe8a2P68Y6MWWRj_XzgqE2)"
   ]
  },
  {
   "cell_type": "code",
   "execution_count": 0,
   "metadata": {
    "colab": {
     "base_uri": "https://localhost:8080/",
     "height": 122
    },
    "colab_type": "code",
    "id": "xrrnC-tkIWnn",
    "outputId": "71f7203f-5677-4676-ec84-29ee7930731d"
   },
   "outputs": [
    {
     "name": "stdout",
     "output_type": "stream",
     "text": [
      "Go to this URL in a browser: https://accounts.google.com/o/oauth2/auth?client_id=947318989803-6bn6qk8qdgf4n4g3pfee6491hc0brc4i.apps.googleusercontent.com&redirect_uri=urn%3aietf%3awg%3aoauth%3a2.0%3aoob&response_type=code&scope=email%20https%3a%2f%2fwww.googleapis.com%2fauth%2fdocs.test%20https%3a%2f%2fwww.googleapis.com%2fauth%2fdrive%20https%3a%2f%2fwww.googleapis.com%2fauth%2fdrive.photos.readonly%20https%3a%2f%2fwww.googleapis.com%2fauth%2fpeopleapi.readonly\n",
      "\n",
      "Enter your authorization code:\n",
      "··········\n",
      "Mounted at /content/drive\n"
     ]
    }
   ],
   "source": [
    "#Run this only if you are using Google Colab\n",
    "from google.colab import drive\n",
    "drive.mount('/content/drive')"
   ]
  },
  {
   "cell_type": "code",
   "execution_count": 0,
   "metadata": {
    "colab": {
     "base_uri": "https://localhost:8080/",
     "height": 34
    },
    "colab_type": "code",
    "id": "kEQMo_MVLzfc",
    "outputId": "1b575606-9d3e-45f8-b301-f47dd1b9e5bb"
   },
   "outputs": [
    {
     "data": {
      "text/plain": [
       "'/content/drive/My Drive/Colab Notebooks/Day4-CNNs/Exercise'"
      ]
     },
     "execution_count": 13,
     "metadata": {
      "tags": []
     },
     "output_type": "execute_result"
    }
   ],
   "source": [
    "Path to my file \"/content/drive/My Drive/Colab Notebooks/Day4-CNNs/Exercise\""
   ]
  },
  {
   "cell_type": "code",
   "execution_count": 0,
   "metadata": {
    "colab": {},
    "colab_type": "code",
    "id": "91j_Wn-OMEbF"
   },
   "outputs": [],
   "source": [
    "def load_split(split):\n",
    "  X_path = '/content/drive/My Drive/Colab Notebooks/Day4-CNNs/Exercise/stl10_binary/{}_X.bin'.format(split)\n",
    "  y_path = '/content/drive/My Drive/Colab Notebooks/Day4-CNNs/Exercise/stl10_binary/{}_y.bin'.format(split)\n",
    "  X = np.fromfile(X_path, dtype=np.uint8).reshape((-1, 3, 96, 96))\n",
    "  X = np.moveaxis(X, 2, 3) # convert column-major to row-major\n",
    "  y = np.fromfile(y_path, dtype=np.uint8) # data type seems to be important here...\n",
    "  y = y - 1 #convert range [1,10] to [0,9]\n",
    "  print('-----------------')\n",
    "  print('Loaded split \"{}\" with sizes: Images {}, labels {}'.format(split, X.shape, y.shape))\n",
    "  return X, y"
   ]
  },
  {
   "cell_type": "code",
   "execution_count": 0,
   "metadata": {
    "colab": {
     "base_uri": "https://localhost:8080/",
     "height": 85
    },
    "colab_type": "code",
    "id": "LDFuMGs2MnRE",
    "outputId": "e3223d0d-e503-4f0f-b5ac-1225c11ab89a"
   },
   "outputs": [
    {
     "name": "stdout",
     "output_type": "stream",
     "text": [
      "-----------------\n",
      "Loaded split \"train\" with sizes: Images (5000, 3, 96, 96), labels (5000,)\n",
      "-----------------\n",
      "Loaded split \"test\" with sizes: Images (8000, 3, 96, 96), labels (8000,)\n"
     ]
    }
   ],
   "source": [
    "# ===================\n",
    "# load the training and test datasets\n",
    "# ===================\n",
    "full_train_X, full_train_y = load_split('train')\n",
    "full_test_X, full_test_y = load_split('test')"
   ]
  },
  {
   "cell_type": "code",
   "execution_count": 0,
   "metadata": {
    "colab": {},
    "colab_type": "code",
    "id": "i5Tz16YtMtI-"
   },
   "outputs": [],
   "source": [
    "# ===================\n",
    "# read the names of the classes in the dataset\n",
    "# ===================\n",
    "with open('/content/drive/My Drive/Colab Notebooks/Day4-CNNs/Exercise/stl10_binary/class_names.txt') as f:\n",
    "    full_class_names = f.readlines()"
   ]
  },
  {
   "cell_type": "code",
   "execution_count": 0,
   "metadata": {
    "colab": {},
    "colab_type": "code",
    "id": "yTAv9m0zM9wB"
   },
   "outputs": [],
   "source": [
    " # ===================\n",
    " # strip trailing whitespace\n",
    " # ===================\n",
    "full_class_names = [name.strip() for name in full_class_names]\n"
   ]
  },
  {
   "cell_type": "code",
   "execution_count": 0,
   "metadata": {
    "colab": {
     "base_uri": "https://localhost:8080/",
     "height": 187
    },
    "colab_type": "code",
    "id": "9WARhZ41NJ_S",
    "outputId": "b9b394ee-e425-48dd-c904-fe48e6af9d63"
   },
   "outputs": [
    {
     "data": {
      "text/plain": [
       "['airplane',\n",
       " 'bird',\n",
       " 'car',\n",
       " 'cat',\n",
       " 'deer',\n",
       " 'dog',\n",
       " 'horse',\n",
       " 'monkey',\n",
       " 'ship',\n",
       " 'truck']"
      ]
     },
     "execution_count": 22,
     "metadata": {
      "tags": []
     },
     "output_type": "execute_result"
    }
   ],
   "source": [
    "full_class_names"
   ]
  },
  {
   "cell_type": "code",
   "execution_count": 0,
   "metadata": {
    "colab": {
     "base_uri": "https://localhost:8080/",
     "height": 88
    },
    "colab_type": "code",
    "id": "eVHeQyzHNMxd",
    "outputId": "bf727fb4-d0ea-4cb9-c3e6-8dc474e51b85"
   },
   "outputs": [
    {
     "name": "stdout",
     "output_type": "stream",
     "text": [
      "-----------------\n",
      "The classes in the dataset are: \n",
      "[(0, 'airplane'), (1, 'bird'), (2, 'car'), (3, 'cat'), (4, 'deer'), (5, 'dog'), (6, 'horse'), (7, 'monkey'), (8, 'ship'), (9, 'truck')]\n"
     ]
    }
   ],
   "source": [
    "# ===================\n",
    "# print the list of names of all classes\n",
    "# ===================\n",
    "print('-----------------')\n",
    "print('The classes in the dataset are: ')\n",
    "print(list(enumerate(full_class_names)))"
   ]
  },
  {
   "cell_type": "code",
   "execution_count": 0,
   "metadata": {
    "colab": {},
    "colab_type": "code",
    "id": "Dw7rrU8cNPt6"
   },
   "outputs": [],
   "source": [
    "# ===========================================================================\n",
    "# Explore a few samples of the dataset\n",
    "# (repeat the following cell for different output by pressing Ctrl-Enter on it instead of Shift-Enter)\n",
    "# ===========================================================================\n",
    "\n",
    "# ===================\n",
    "# function to show an example image and its label\n",
    "# ===================\n",
    "# inputs:\n",
    "#    X: image\n",
    "#    y: label\n",
    "#    class_names: list of names of all classes so that the class name corresponding to the label can be identified\n",
    "# outputs:\n",
    "#    None\n",
    "# ===================\n",
    "def visualize_sample(X, y, class_names):\n",
    "    X_vis = np.moveaxis(X, 0, 2) # convert Channel,Width,Height order to W,H,C\n",
    "    plt.figure()\n",
    "    plt.imshow(X_vis, interpolation='nearest')\n",
    "    plt.axis('off')\n",
    "    plt.title('Class id={}, Name={}'.format(y, class_names[y]))\n",
    "\n",
    "\n"
   ]
  },
  {
   "cell_type": "code",
   "execution_count": 0,
   "metadata": {
    "colab": {
     "base_uri": "https://localhost:8080/",
     "height": 264
    },
    "colab_type": "code",
    "id": "vowptFmoN9xY",
    "outputId": "66bc16c6-a074-4242-deae-9f10d158c7ed"
   },
   "outputs": [
    {
     "data": {
      "image/png": "[encoded data removed]",
      "text/plain": [
       "<Figure size 432x288 with 1 Axes>"
      ]
     },
     "metadata": {
      "tags": []
     },
     "output_type": "display_data"
    }
   ],
   "source": [
    "# ===================\n",
    "# choose a random image and display it \n",
    "# you may run this cell multiple times to get an idea of the different images in the dataset\n",
    "# alternatively, modify the function 'visualize_sample' to display several (4/8/16) different images along with their labels\n",
    "# ===================\n",
    "i = random.randint(0, full_train_X.shape[0]-1)\n",
    "visualize_sample(full_train_X[i],\n",
    "                 full_train_y[i],\n",
    "                 full_class_names)"
   ]
  },
  {
   "cell_type": "code",
   "execution_count": 0,
   "metadata": {
    "colab": {},
    "colab_type": "code",
    "id": "14R6ErlYOBdL"
   },
   "outputs": [],
   "source": [
    "# ===========================================================================\n",
    "# First, let us train a 2-class classifier.\n",
    "# ===========================================================================\n",
    "\n",
    "# ===================\n",
    "# Let's select from the dataset only samples of classes 'cat' and 'ship'.\n",
    "# We have arbitrarily chosen these two classes.\n",
    "# You may try some other pair of classes if you wish to.\n",
    "# ===================\n",
    "ID_C1_OLD, ID_C2_OLD = 3, 8 # C1: CAT, C2: SHIP\n",
    "ID_C1_NEW, ID_C2_NEW = 0, 1"
   ]
  },
  {
   "cell_type": "code",
   "execution_count": 0,
   "metadata": {
    "colab": {},
    "colab_type": "code",
    "id": "u5_grosZOD8w"
   },
   "outputs": [],
   "source": [
    "# ===================\n",
    "# function to delete all the classes other than the cat and ship classes\n",
    "# ===================\n",
    "# inputs:\n",
    "#    X: images from all classes\n",
    "#    y: labels from all classes\n",
    "#    split: train / test\n",
    "# outputs:\n",
    "#    X_out: images from only cats and ships\n",
    "#    y_out: labels from only cats and ships\n",
    "# ===================\n",
    "def subsplit_two_classes(X, y, split):\n",
    "    \n",
    "    indices = np.where(np.logical_or(y==ID_C1_OLD, y==ID_C2_OLD))\n",
    "    X_out = X[indices]\n",
    "    y_out = y[indices]\n",
    "    y_out = (y_out == ID_C1_OLD).astype(np.int) * ID_C1_NEW + (y_out == ID_C2_OLD).astype(np.int) * ID_C2_NEW\n",
    "    print('Created \"{}\" subsplit with only 2 classes with sizes: Images {}, labels {}'.format(split, X_out.shape, y_out.shape))\n",
    "    return X_out, y_out"
   ]
  },
  {
   "cell_type": "code",
   "execution_count": 0,
   "metadata": {
    "colab": {
     "base_uri": "https://localhost:8080/",
     "height": 71
    },
    "colab_type": "code",
    "id": "eyscY9jLOR4N",
    "outputId": "88519ffc-0e2e-4d60-b82e-151a2c8b005f"
   },
   "outputs": [
    {
     "name": "stdout",
     "output_type": "stream",
     "text": [
      "Created \"train\" subsplit with only 2 classes with sizes: Images (1000, 3, 96, 96), labels (1000,)\n",
      "Created \"test\" subsplit with only 2 classes with sizes: Images (1600, 3, 96, 96), labels (1600,)\n"
     ]
    }
   ],
   "source": [
    "# ===================\n",
    "# make the training and test datasets so that they contain only the two classes of interest\n",
    "# ===================\n",
    "train_two_classes_X, train_two_classes_y = subsplit_two_classes(full_train_X,\n",
    "                                                                full_train_y,\n",
    "                                                                'train')\n",
    "\n",
    "test_two_classes_X, test_two_classes_y = subsplit_two_classes(full_test_X,\n",
    "                                                              full_test_y,\n",
    "                                                              'test')\n",
    "\n",
    "class_names_two_classes = [full_class_names[i] for i in (ID_C1_OLD, ID_C2_OLD)]\n",
    "\n"
   ]
  },
  {
   "cell_type": "code",
   "execution_count": 0,
   "metadata": {
    "colab": {
     "base_uri": "https://localhost:8080/",
     "height": 264
    },
    "colab_type": "code",
    "id": "55xdv5HYOWdm",
    "outputId": "45fff15e-3eaa-4ca7-ce5b-03813d622591"
   },
   "outputs": [
    {
     "data": {
      "image/png": "[encoded data removed]",
      "text/plain": [
       "<Figure size 432x288 with 1 Axes>"
      ]
     },
     "metadata": {
      "tags": []
     },
     "output_type": "display_data"
    }
   ],
   "source": [
    "# ===================\n",
    "# visualize some examples from the modified datasets\n",
    "# ===================\n",
    "i = random.randint(0, train_two_classes_X.shape[0]-1)\n",
    "visualize_sample(train_two_classes_X[i],\n",
    "                 train_two_classes_y[i],\n",
    "                 class_names_two_classes)\n"
   ]
  },
  {
   "cell_type": "code",
   "execution_count": 0,
   "metadata": {
    "colab": {},
    "colab_type": "code",
    "id": "QwDJEZIQOhC-"
   },
   "outputs": [],
   "source": [
    "# ===========================================================================\n",
    "# Wrap our dataset into pytorch Dataset class so it can further be used in DataLoader for batch grouping\n",
    "# ===========================================================================\n",
    "class ArrayDataset(Dataset):\n",
    "    \n",
    "    def __init__(self, X, y):\n",
    "        self.X = X\n",
    "        self.y = y\n",
    "        \n",
    "    def __len__(self):\n",
    "        return self.X.shape[0]\n",
    "  \n",
    "    def __getitem__(self, index):\n",
    "        return self.X[index], self.y[index]"
   ]
  },
  {
   "cell_type": "code",
   "execution_count": 0,
   "metadata": {
    "colab": {},
    "colab_type": "code",
    "id": "BQDeEk9NOyrw"
   },
   "outputs": [],
   "source": [
    " # ===================\n",
    " # set the batch size here\n",
    " # ===================\n",
    "BATCH_SIZE = 8\n",
    "\n",
    "# ===================\n",
    "# load the training and test datasets for the two-class classification problem\n",
    "# https://pytorch.org/docs/stable/data.html\n",
    "# ===================\n",
    "loader_two_classes_train = DataLoader(dataset = ArrayDataset(train_two_classes_X, train_two_classes_y),\n",
    "                                      batch_size=BATCH_SIZE,\n",
    "                                      shuffle=True,\n",
    "                                      drop_last=True)\n",
    "\n",
    "loader_two_classes_test = DataLoader(dataset = ArrayDataset(test_two_classes_X, test_two_classes_y),\n",
    "                                     batch_size=1,\n",
    "                                     shuffle=True)\n",
    "\n",
    "# ===================\n",
    "# load the training and test datasets for the ten-class classification problem\n",
    "# ===================\n",
    "loader_ten_classes_train = DataLoader(dataset = ArrayDataset(full_train_X, full_train_y),\n",
    "                                      batch_size=BATCH_SIZE,\n",
    "                                      shuffle=True,\n",
    "                                      drop_last=True)\n",
    "\n",
    "loader_ten_classes_test = DataLoader(dataset = ArrayDataset(full_test_X, full_test_y),\n",
    "                                     batch_size=1,\n",
    "                                     shuffle=True)\n"
   ]
  },
  {
   "cell_type": "code",
   "execution_count": 0,
   "metadata": {
    "colab": {},
    "colab_type": "code",
    "id": "DSTnoRy-O_ib"
   },
   "outputs": [],
   "source": [
    "\n",
    "# ===========================================================================\n",
    "# Define neural network\n",
    "# ===========================================================================\n",
    "class CNN(nn.Module):\n",
    "  \n",
    "  # ===================\n",
    "  # the network architecture is defined here\n",
    "  # documentation of some useful functions:\n",
    "  #     https://pytorch.org/docs/stable/nn.html#conv2d\n",
    "  #     https://pytorch.org/docs/stable/nn.html#batchnorm2d\n",
    "  #     https://pytorch.org/docs/stable/nn.html#maxpool2d\n",
    "  #     https://pytorch.org/docs/stable/nn.html#linear\n",
    "  #     https://pytorch.org/docs/stable/nn.html#batchnorm1d\n",
    "  # ===================\n",
    "    def __init__(self, num_out_classes):\n",
    "    \n",
    "        super(CNN, self).__init__()\n",
    "        \n",
    "        num_filters = [3, 6, 12, 24, 64]\n",
    "        \n",
    "        # =======================First Convolution Layer=======================#\n",
    "        \n",
    "        # expected size of input to following layer: 3x96x96\n",
    "        self.conv1 = nn.Conv2d(in_channels=num_filters[0],\n",
    "                               out_channels=num_filters[1],\n",
    "                               kernel_size=3,\n",
    "                               padding=1,\n",
    "                               bias=False)\n",
    "        # Expected size of output from Convolution layer : 6x32x32\n",
    "        \n",
    "        # Expected size of input to following layer:\n",
    "        self.bn1 = nn.BatchNorm2d(num_features=num_filters[1])\n",
    "        # Expected size of output from Batch Normalization : 6x32x32        \n",
    "        \n",
    "        # expected size of input to following layer:\n",
    "        self.relu1 = nn.ReLU()\n",
    "        # Expected size of output from Activation function: 6x32x32\n",
    "        \n",
    "        # expected size of input to following layer:\n",
    "        self.pool1 = nn.MaxPool2d(kernel_size=2, stride=2)\n",
    "        # Expected size of output from Max Pool : 6x16x16\n",
    "        \"\"\"\n",
    "        Kernel size for Max Pool = 2 x 2\n",
    "        32x32 goes down by 2x2 resulting 16x16 \n",
    "        \"\"\"\n",
    "\n",
    "        # *implement other layers\n",
    "        \n",
    "        # =====================Second Convolution Layer========================#\n",
    "\n",
    "        # Expected size of input to following layer: 6x16x16\n",
    "        self.conv2 = nn.Conv2d(in_channels=num_filters[1],\n",
    "                               out_channelts=num_filters[2],\n",
    "                               kernel_size=3,\n",
    "                               padding=1,\n",
    "                               bias=False)\n",
    "        # Expected size of output from Convolution layer : 12x11x11\n",
    "\n",
    "        self.bn2 = nn.BatchNorm2d(num_features=num_filters[2])\n",
    "        # Expected size of output from Batch Normalization : 12x11x11\n",
    "\n",
    "        self.relu2 = nn.ReLU()\n",
    "        # Expected size of output from Activation function: 12x11x11\n",
    "        \n",
    "        self.pool2 = nn.MaxPool2d(kernel_size=2, stride=2)\n",
    "        # Expected size of output from Max Pool : 12x5x5\n",
    "\n",
    "\n",
    "        # ======================Third Convolution Layer========================#\n",
    "\n",
    "        # Expected size of input to following layer: 12x5x5\n",
    "        self.conv3 = nn.Conv2d(in_channels=num_filters[2],\n",
    "                               out_channelts=num_filters[3],\n",
    "                               kernel_size=3,\n",
    "                               padding=1,\n",
    "                               bias=False)\n",
    "        # Expected size of output from Convolution layer : 24x2x2\n",
    "\n",
    "        self.bn3 = nn.BatchNorm2d(num_features=num_filters[3])\n",
    "        # Expected size of output from Batch Normalization : 24x2x2\n",
    "\n",
    "        self.relu3 = nn.ReLU()\n",
    "        # Expected size of output from Activation function: 24x2x2\n",
    "\n",
    "        self.pool3 = nn.MaxPool2d(kernel_size=2, stride=2)\n",
    "        # Expected size of output from Max Pool : 24x1x1\n",
    "\n",
    "    \n",
    "    # ===================\n",
    "    # define the forward pass through the network using the operations defined in the init function\n",
    "    # ===================\n",
    "    def forward(self, x):\n",
    "        # bring input to [-1,1] range\n",
    "        x = x.float() / 128.0 - 1.0\n",
    "        # sequence of operations: convolution --> batch normalization --> non-linearity --> pooling\n",
    "        x = self.pool1(self.relu1(self.bn1(self.conv1(x))))\n",
    "        x = self.pool2(self.relu2(self.bn2(self.conv2(x))))\n",
    "        x = self.pool3(self.relu3(self.bn3(self.conv3(x))))\n",
    "        \n",
    "        x = x.view(-1, 24*12*12) # before passing to fully connected layer\n",
    "        # *implement other layers\n",
    "\n",
    "\n",
    "        return x\n",
    "\n"
   ]
  },
  {
   "cell_type": "code",
   "execution_count": 0,
   "metadata": {
    "colab": {},
    "colab_type": "code",
    "id": "HM3LVt-gVFvo"
   },
   "outputs": [],
   "source": []
  }
 ],
 "metadata": {
  "accelerator": "GPU",
  "colab": {
   "name": "Day4_CNN.ipynb",
   "provenance": []
  },
  "kernelspec": {
   "display_name": "Python 3",
   "language": "python",
   "name": "python3"
  },
  "language_info": {
   "codemirror_mode": {
    "name": "ipython",
    "version": 3
   },
   "file_extension": ".py",
   "mimetype": "text/x-python",
   "name": "python",
   "nbconvert_exporter": "python",
   "pygments_lexer": "ipython3",
   "version": "3.6.9"
  }
 },
 "nbformat": 4,
 "nbformat_minor": 1
}
