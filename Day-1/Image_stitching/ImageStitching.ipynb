{
 "cells": [
  {
   "cell_type": "code",
   "execution_count": 1,
   "metadata": {},
   "outputs": [],
   "source": [
    "import pdb\n",
    "import cv2\n",
    "import numpy as np\n",
    "from PIL import Image"
   ]
  },
  {
   "cell_type": "code",
   "execution_count": 2,
   "metadata": {},
   "outputs": [],
   "source": [
    "def drawPoints(img, pts):\n",
    "    for k in range(pts.shape[1]):\n",
    "        cv2.drawMarker(img, (np.asarray(pts[0,k]), np.asarray(pts[1,k])), (255, 0, 0), markerType=cv2.MARKER_STAR,\n",
    "                       markerSize=10, thickness=2, line_type=cv2.LINE_AA)\n",
    "    return img"
   ]
  },
  {
   "cell_type": "code",
   "execution_count": 3,
   "metadata": {},
   "outputs": [],
   "source": [
    "def prepare_data():\n",
    "    im = cv2.imread('fishtail2.jpg')\n",
    "    print(im.__class__.__name__)\n",
    "    print(im.shape)\n",
    "    center = (im.shape[0]/2,im.shape[1]/2)\n",
    "    scale = 1\n",
    "    angle = 45\n",
    "    im1 = im[0:400,0:480]\n",
    "    im2 = im[0:400,160:640]\n",
    "\n",
    "    rot_mat = cv2.getRotationMatrix2D(center, angle, scale)\n",
    "    warped_im2 = cv2.warpAffine(im2,rot_mat,(480,400))\n",
    "\n",
    "    p1 = np.asarray([[400,420,389,300,470,390],[300,310,230,290,289,213],[1,1,1,1,1,1]])\n",
    "    p1_cr = np.asarray([[160],[0],[0]])\n",
    "    p2 = np.dot(rot_mat,p1-p1_cr)\n",
    "    im1_pts = im1\n",
    "    #im1_pts = drawPoints(im1_pts, p1)\n",
    "    #cv2.imshow(\"im1_pts\",im1_pts)\n",
    "    #cv2.waitKey(0)\n",
    "    return im1, warped_im2, p1, p2"
   ]
  },
  {
   "cell_type": "code",
   "execution_count": 4,
   "metadata": {},
   "outputs": [
    {
     "name": "stdout",
     "output_type": "stream",
     "text": [
      "ndarray\n",
      "(400, 640, 3)\n"
     ]
    }
   ],
   "source": [
    "im1, im2, p1, p2 = prepare_data()"
   ]
  },
  {
   "cell_type": "code",
   "execution_count": 5,
   "metadata": {},
   "outputs": [
    {
     "data": {
      "text/plain": [
       "(3, 6)"
      ]
     },
     "execution_count": 5,
     "metadata": {},
     "output_type": "execute_result"
    }
   ],
   "source": [
    "p1.shape"
   ]
  },
  {
   "cell_type": "code",
   "execution_count": 6,
   "metadata": {},
   "outputs": [
    {
     "data": {
      "text/plain": [
       "array([[214.14213562, 277.57359313],\n",
       "       [235.35533906, 270.50252532],\n",
       "       [156.86648635, 235.85429304],\n",
       "       [136.36038969, 341.21320344],\n",
       "       [255.86143571, 220.29794385],\n",
       "       [145.55277785, 223.12637098]])"
      ]
     },
     "execution_count": 6,
     "metadata": {},
     "output_type": "execute_result"
    }
   ],
   "source": [
    "p2.transpose()"
   ]
  },
  {
   "cell_type": "code",
   "execution_count": 7,
   "metadata": {},
   "outputs": [
    {
     "data": {
      "text/plain": [
       "array([[400, 300,   1],\n",
       "       [420, 310,   1],\n",
       "       [389, 230,   1],\n",
       "       [300, 290,   1],\n",
       "       [470, 289,   1],\n",
       "       [390, 213,   1]])"
      ]
     },
     "execution_count": 7,
     "metadata": {},
     "output_type": "execute_result"
    }
   ],
   "source": [
    "p1.transpose()"
   ]
  },
  {
   "cell_type": "code",
   "execution_count": 8,
   "metadata": {},
   "outputs": [
    {
     "data": {
      "text/plain": [
       "array([[400, 300,   1],\n",
       "       [400, 300,   1],\n",
       "       [420, 310,   1],\n",
       "       [420, 310,   1],\n",
       "       [389, 230,   1],\n",
       "       [389, 230,   1],\n",
       "       [300, 290,   1],\n",
       "       [300, 290,   1],\n",
       "       [470, 289,   1],\n",
       "       [470, 289,   1],\n",
       "       [390, 213,   1],\n",
       "       [390, 213,   1]])"
      ]
     },
     "execution_count": 8,
     "metadata": {},
     "output_type": "execute_result"
    }
   ],
   "source": [
    "np.repeat(p1.transpose(),2,0)"
   ]
  },
  {
   "cell_type": "code",
   "execution_count": 9,
   "metadata": {},
   "outputs": [
    {
     "data": {
      "text/plain": [
       "array([[400, 300,   1, 400, 300,   1],\n",
       "       [400, 300,   1, 400, 300,   1],\n",
       "       [420, 310,   1, 420, 310,   1],\n",
       "       [420, 310,   1, 420, 310,   1],\n",
       "       [389, 230,   1, 389, 230,   1],\n",
       "       [389, 230,   1, 389, 230,   1],\n",
       "       [300, 290,   1, 300, 290,   1],\n",
       "       [300, 290,   1, 300, 290,   1],\n",
       "       [470, 289,   1, 470, 289,   1],\n",
       "       [470, 289,   1, 470, 289,   1],\n",
       "       [390, 213,   1, 390, 213,   1],\n",
       "       [390, 213,   1, 390, 213,   1]])"
      ]
     },
     "execution_count": 9,
     "metadata": {},
     "output_type": "execute_result"
    }
   ],
   "source": [
    "np.tile(np.repeat(p1.transpose(),2,0),(1,2))"
   ]
  },
  {
   "cell_type": "code",
   "execution_count": 10,
   "metadata": {},
   "outputs": [],
   "source": [
    "A = np.tile(np.repeat(p1.transpose(),2,0),(1,2))\n",
    "A[0::2,3:]= 0\n",
    "A[1::2,:3]= 0"
   ]
  },
  {
   "cell_type": "code",
   "execution_count": 11,
   "metadata": {},
   "outputs": [],
   "source": [
    "bmat = np.zeros((p2.shape[1]*2,1))\n",
    "bmat[0::2,:] = np.reshape(p2[0].transpose(),(-1,1))\n",
    "bmat[1::2,:] = np.reshape(p2[1].transpose(),(-1,1))"
   ]
  },
  {
   "cell_type": "code",
   "execution_count": 12,
   "metadata": {},
   "outputs": [],
   "source": [
    "Ax = np.dot(np.dot(np.linalg.inv(np.dot(np.transpose(A), A)), np.transpose(A)), bmat)\n",
    "Ax = np.linalg.lstsq(A, bmat, rcond=None)"
   ]
  },
  {
   "cell_type": "code",
   "execution_count": 13,
   "metadata": {},
   "outputs": [],
   "source": [
    "Aff_mat = np.reshape(Ax[0],(2,3))\n",
    "p2_check = np.dot(Aff_mat,p1)"
   ]
  },
  {
   "cell_type": "code",
   "execution_count": 14,
   "metadata": {},
   "outputs": [
    {
     "data": {
      "text/plain": [
       "'\\n    x1*a11 + y1*a12 + 1*a13 + 0 *a21 + 0 *a22 + 1*a23 = x2\\n     0*a11 + 0* a12 + 0*a23 + x1*a21 + y1*a22 + 1*a23 = y2\\n'"
      ]
     },
     "execution_count": 14,
     "metadata": {},
     "output_type": "execute_result"
    }
   ],
   "source": [
    "'''\n",
    "    a11*x1 + a12*y1 + a13*z1 = x2\n",
    "    a21*x1 + a22*y1 + a23*z1 = y2\n",
    "'''\n",
    "'''\n",
    "    x1*a11 + y1*a12 + 1*a13 + 0 *a21 + 0 *a22 + 1*a23 = x2\n",
    "     0*a11 + 0* a12 + 0*a23 + x1*a21 + y1*a22 + 1*a23 = y2\n",
    "'''"
   ]
  },
  {
   "cell_type": "code",
   "execution_count": 15,
   "metadata": {},
   "outputs": [],
   "source": [
    "height = 480\n",
    "width = 640\n",
    "blank_image2 = np.zeros((height,width,3), np.uint8)"
   ]
  },
  {
   "cell_type": "code",
   "execution_count": 16,
   "metadata": {},
   "outputs": [],
   "source": [
    "invAffmat = np.linalg.inv(np.vstack((Aff_mat,np.asarray([0,0,1]))))"
   ]
  },
  {
   "cell_type": "code",
   "execution_count": 17,
   "metadata": {},
   "outputs": [],
   "source": [
    "blank_image = cv2.warpAffine(im2,invAffmat[0:2,:],(width,height))\n",
    "blank_image2[0:im1.shape[0],0:im1.shape[1],:] = im1"
   ]
  },
  {
   "cell_type": "code",
   "execution_count": 18,
   "metadata": {},
   "outputs": [],
   "source": [
    "final_image = blank_image+ blank_image2"
   ]
  },
  {
   "cell_type": "code",
   "execution_count": 19,
   "metadata": {},
   "outputs": [],
   "source": [
    "final_image = np.maximum(blank_image,blank_image2)"
   ]
  },
  {
   "cell_type": "code",
   "execution_count": 20,
   "metadata": {},
   "outputs": [
    {
     "data": {
      "text/plain": [
       "48"
      ]
     },
     "execution_count": 20,
     "metadata": {},
     "output_type": "execute_result"
    }
   ],
   "source": [
    "cv2.imshow(\"final_image\", final_image)\n",
    "cv2.waitKey(0)"
   ]
  },
  {
   "cell_type": "code",
   "execution_count": null,
   "metadata": {},
   "outputs": [],
   "source": []
  }
 ],
 "metadata": {
  "kernelspec": {
   "display_name": "Python 3",
   "language": "python",
   "name": "python3"
  },
  "language_info": {
   "codemirror_mode": {
    "name": "ipython",
    "version": 3
   },
   "file_extension": ".py",
   "mimetype": "text/x-python",
   "name": "python",
   "nbconvert_exporter": "python",
   "pygments_lexer": "ipython3",
   "version": "3.6.9"
  }
 },
 "nbformat": 4,
 "nbformat_minor": 2
}
