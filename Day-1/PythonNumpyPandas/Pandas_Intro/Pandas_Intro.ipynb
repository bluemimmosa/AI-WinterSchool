{
 "cells": [
  {
   "cell_type": "markdown",
   "metadata": {},
   "source": [
    "# Import Pandas and Numpy"
   ]
  },
  {
   "cell_type": "code",
   "execution_count": 1,
   "metadata": {},
   "outputs": [],
   "source": [
    "import pandas as pd\n",
    "import numpy as np "
   ]
  },
  {
   "cell_type": "markdown",
   "metadata": {},
   "source": [
    "# Pandas Series"
   ]
  },
  {
   "cell_type": "code",
   "execution_count": 2,
   "metadata": {},
   "outputs": [
    {
     "name": "stdout",
     "output_type": "stream",
     "text": [
      "Series([], dtype: float64)\n"
     ]
    }
   ],
   "source": [
    "#Creating an empty Series\n",
    "\n",
    "ser = pd.Series() \n",
    "  \n",
    "print(ser) "
   ]
  },
  {
   "cell_type": "code",
   "execution_count": 3,
   "metadata": {},
   "outputs": [],
   "source": [
    "x = np.array([1,2,3,'kathmandu','pokhara'])"
   ]
  },
  {
   "cell_type": "code",
   "execution_count": 4,
   "metadata": {},
   "outputs": [
    {
     "data": {
      "text/plain": [
       "array(['1', '2', '3', 'kathmandu', 'pokhara'], dtype='<U21')"
      ]
     },
     "execution_count": 4,
     "metadata": {},
     "output_type": "execute_result"
    }
   ],
   "source": [
    "x"
   ]
  },
  {
   "cell_type": "code",
   "execution_count": 5,
   "metadata": {},
   "outputs": [
    {
     "name": "stdout",
     "output_type": "stream",
     "text": [
      "0     Kathmandu\n",
      "1       Pokhara\n",
      "2       Chitwan\n",
      "3    Biratnagar\n",
      "dtype: object\n"
     ]
    }
   ],
   "source": [
    "# Create a series by passing a list\n",
    "\n",
    "cities = pd.Series(['Kathmandu', 'Pokhara', 'Chitwan','Biratnagar'])\n",
    "print(cities)"
   ]
  },
  {
   "cell_type": "code",
   "execution_count": 6,
   "metadata": {},
   "outputs": [
    {
     "name": "stdout",
     "output_type": "stream",
     "text": [
      "0     Kathmandu\n",
      "1       Pokhara\n",
      "2       Chitwan\n",
      "3    Biratnagar\n",
      "dtype: object\n"
     ]
    }
   ],
   "source": [
    "#Creating series from a list\n",
    "\n",
    "List = ['Kathmandu', 'Pokhara', 'Chitwan','Biratnagar']\n",
    "  \n",
    "ser = pd.Series(List) \n",
    "print(ser) "
   ]
  },
  {
   "cell_type": "code",
   "execution_count": 7,
   "metadata": {},
   "outputs": [
    {
     "name": "stdout",
     "output_type": "stream",
     "text": [
      "0     Kathmandu\n",
      "1       Pokhara\n",
      "2       Chitwan\n",
      "3    Biratnagar\n",
      "dtype: object\n"
     ]
    }
   ],
   "source": [
    "#Creating series from an array\n",
    "  \n",
    "\n",
    "data = np.array(['Kathmandu', 'Pokhara', 'Chitwan','Biratnagar']) \n",
    "  \n",
    "ser = pd.Series(data) \n",
    "print(ser) "
   ]
  },
  {
   "cell_type": "code",
   "execution_count": 8,
   "metadata": {},
   "outputs": [
    {
     "name": "stdout",
     "output_type": "stream",
     "text": [
      "a     Kathmandu\n",
      "b       Pokhara\n",
      "c       Chitwan\n",
      "d    Biratnagar\n",
      "dtype: object\n"
     ]
    }
   ],
   "source": [
    "#Creating a series from array with index\n",
    "\n",
    "data = np.array(['Kathmandu', 'Pokhara', 'Chitwan','Biratnagar']) \n",
    "  \n",
    "# providing an index \n",
    "ser = pd.Series(data, index =['a', 'b', 'c', 'd']) \n",
    "print(ser) "
   ]
  },
  {
   "cell_type": "markdown",
   "metadata": {},
   "source": [
    "## Does it remind you of something in Python DataTypes?\n",
    "Dictionaries??"
   ]
  },
  {
   "cell_type": "markdown",
   "metadata": {},
   "source": [
    "# Pandas DataFrames\n"
   ]
  },
  {
   "cell_type": "code",
   "execution_count": 9,
   "metadata": {},
   "outputs": [
    {
     "name": "stdout",
     "output_type": "stream",
     "text": [
      "[{'Country': 'Nepal', 'Capital': 'Kathmandu', 'Population': 28095714}, {'Country': 'India', 'Capital': 'New Delhi', 'Population': 1352642280}, {'Country': 'Bangladesh', 'Capital': 'Dhaka', 'Population': 161376708}, {'Country': 'Maldives', 'Population': 11111111}]\n"
     ]
    }
   ],
   "source": [
    "# Countries_data\n",
    "\n",
    "data = [{'Country': 'Nepal', 'Capital': 'Kathmandu', 'Population': 28095714 },\n",
    "         {'Country': 'India', 'Capital': 'New Delhi', 'Population': 1352642280 },\n",
    "         {'Country': 'Bangladesh', 'Capital': 'Dhaka', 'Population': 161376708 },\n",
    "         {'Country':'Maldives','Population':11111111}]\n",
    "\n",
    "print(data)"
   ]
  },
  {
   "cell_type": "code",
   "execution_count": 10,
   "metadata": {},
   "outputs": [
    {
     "name": "stdout",
     "output_type": "stream",
     "text": [
      "      Country    Capital  Population\n",
      "0       Nepal  Kathmandu    28095714\n",
      "1       India  New Delhi  1352642280\n",
      "2  Bangladesh      Dhaka   161376708\n",
      "3    Maldives        NaN    11111111\n"
     ]
    }
   ],
   "source": [
    "# Create dataframe from Python data structures\n",
    "df = pd.DataFrame(data)\n",
    "print(df)"
   ]
  },
  {
   "cell_type": "code",
   "execution_count": 11,
   "metadata": {},
   "outputs": [
    {
     "data": {
      "text/html": [
       "<div>\n",
       "<style scoped>\n",
       "    .dataframe tbody tr th:only-of-type {\n",
       "        vertical-align: middle;\n",
       "    }\n",
       "\n",
       "    .dataframe tbody tr th {\n",
       "        vertical-align: top;\n",
       "    }\n",
       "\n",
       "    .dataframe thead th {\n",
       "        text-align: right;\n",
       "    }\n",
       "</style>\n",
       "<table border=\"1\" class=\"dataframe\">\n",
       "  <thead>\n",
       "    <tr style=\"text-align: right;\">\n",
       "      <th></th>\n",
       "      <th>Country</th>\n",
       "      <th>Capital</th>\n",
       "      <th>Population</th>\n",
       "    </tr>\n",
       "  </thead>\n",
       "  <tbody>\n",
       "    <tr>\n",
       "      <th>0</th>\n",
       "      <td>Nepal</td>\n",
       "      <td>Kathmandu</td>\n",
       "      <td>28095714</td>\n",
       "    </tr>\n",
       "    <tr>\n",
       "      <th>1</th>\n",
       "      <td>India</td>\n",
       "      <td>New Delhi</td>\n",
       "      <td>1352642280</td>\n",
       "    </tr>\n",
       "    <tr>\n",
       "      <th>2</th>\n",
       "      <td>Bangladesh</td>\n",
       "      <td>Dhaka</td>\n",
       "      <td>161376708</td>\n",
       "    </tr>\n",
       "    <tr>\n",
       "      <th>3</th>\n",
       "      <td>Maldives</td>\n",
       "      <td>NaN</td>\n",
       "      <td>11111111</td>\n",
       "    </tr>\n",
       "  </tbody>\n",
       "</table>\n",
       "</div>"
      ],
      "text/plain": [
       "      Country    Capital  Population\n",
       "0       Nepal  Kathmandu    28095714\n",
       "1       India  New Delhi  1352642280\n",
       "2  Bangladesh      Dhaka   161376708\n",
       "3    Maldives        NaN    11111111"
      ]
     },
     "execution_count": 11,
     "metadata": {},
     "output_type": "execute_result"
    }
   ],
   "source": [
    "df  #typing the name of the dateframe gives you a nicely formatted table"
   ]
  },
  {
   "cell_type": "markdown",
   "metadata": {},
   "source": [
    "# DataFrames from Series\n"
   ]
  },
  {
   "cell_type": "code",
   "execution_count": 12,
   "metadata": {},
   "outputs": [],
   "source": [
    "# Let us create three series for cities, population and elevation\n",
    "\n",
    "cities = ['Kathmandu', 'Pokhara', 'Chitwan', 'Biratnagar']\n",
    "population = [975453, 426759, 280502, 242548]\n",
    "elevation = [1400, 1400, 208, 80]"
   ]
  },
  {
   "cell_type": "code",
   "execution_count": 13,
   "metadata": {},
   "outputs": [],
   "source": [
    "# Create an empty DataFrame, and add new columns to it from the series we created earlier\n",
    "\n",
    "cities_df = pd.DataFrame()\n",
    "cities_df['name'] = cities\n",
    "cities_df['population'] = population\n",
    "cities_df['elevation'] = elevation"
   ]
  },
  {
   "cell_type": "code",
   "execution_count": 14,
   "metadata": {},
   "outputs": [
    {
     "data": {
      "text/html": [
       "<div>\n",
       "<style scoped>\n",
       "    .dataframe tbody tr th:only-of-type {\n",
       "        vertical-align: middle;\n",
       "    }\n",
       "\n",
       "    .dataframe tbody tr th {\n",
       "        vertical-align: top;\n",
       "    }\n",
       "\n",
       "    .dataframe thead th {\n",
       "        text-align: right;\n",
       "    }\n",
       "</style>\n",
       "<table border=\"1\" class=\"dataframe\">\n",
       "  <thead>\n",
       "    <tr style=\"text-align: right;\">\n",
       "      <th></th>\n",
       "      <th>name</th>\n",
       "      <th>population</th>\n",
       "      <th>elevation</th>\n",
       "    </tr>\n",
       "  </thead>\n",
       "  <tbody>\n",
       "    <tr>\n",
       "      <th>0</th>\n",
       "      <td>Kathmandu</td>\n",
       "      <td>975453</td>\n",
       "      <td>1400</td>\n",
       "    </tr>\n",
       "    <tr>\n",
       "      <th>1</th>\n",
       "      <td>Pokhara</td>\n",
       "      <td>426759</td>\n",
       "      <td>1400</td>\n",
       "    </tr>\n",
       "    <tr>\n",
       "      <th>2</th>\n",
       "      <td>Chitwan</td>\n",
       "      <td>280502</td>\n",
       "      <td>208</td>\n",
       "    </tr>\n",
       "    <tr>\n",
       "      <th>3</th>\n",
       "      <td>Biratnagar</td>\n",
       "      <td>242548</td>\n",
       "      <td>80</td>\n",
       "    </tr>\n",
       "  </tbody>\n",
       "</table>\n",
       "</div>"
      ],
      "text/plain": [
       "         name  population  elevation\n",
       "0   Kathmandu      975453       1400\n",
       "1     Pokhara      426759       1400\n",
       "2     Chitwan      280502        208\n",
       "3  Biratnagar      242548         80"
      ]
     },
     "execution_count": 14,
     "metadata": {},
     "output_type": "execute_result"
    }
   ],
   "source": [
    "cities_df"
   ]
  },
  {
   "cell_type": "code",
   "execution_count": 15,
   "metadata": {},
   "outputs": [
    {
     "name": "stdout",
     "output_type": "stream",
     "text": [
      "name          object\n",
      "population     int64\n",
      "elevation      int64\n",
      "dtype: object\n"
     ]
    }
   ],
   "source": [
    "# The columns have different dtypes\n",
    "\n",
    "print(cities_df.dtypes)"
   ]
  },
  {
   "cell_type": "markdown",
   "metadata": {},
   "source": [
    "# Importing Data"
   ]
  },
  {
   "cell_type": "code",
   "execution_count": 16,
   "metadata": {},
   "outputs": [],
   "source": [
    "saarc = pd.read_csv('../data/saarc.csv')"
   ]
  },
  {
   "cell_type": "code",
   "execution_count": 17,
   "metadata": {},
   "outputs": [
    {
     "data": {
      "text/html": [
       "<div>\n",
       "<style scoped>\n",
       "    .dataframe tbody tr th:only-of-type {\n",
       "        vertical-align: middle;\n",
       "    }\n",
       "\n",
       "    .dataframe tbody tr th {\n",
       "        vertical-align: top;\n",
       "    }\n",
       "\n",
       "    .dataframe thead th {\n",
       "        text-align: right;\n",
       "    }\n",
       "</style>\n",
       "<table border=\"1\" class=\"dataframe\">\n",
       "  <thead>\n",
       "    <tr style=\"text-align: right;\">\n",
       "      <th></th>\n",
       "      <th>Country</th>\n",
       "      <th>Population</th>\n",
       "      <th>GDP</th>\n",
       "      <th>GDPperCapita</th>\n",
       "      <th>GrowthRate</th>\n",
       "    </tr>\n",
       "  </thead>\n",
       "  <tbody>\n",
       "    <tr>\n",
       "      <th>0</th>\n",
       "      <td>Afghanistan</td>\n",
       "      <td>37171921</td>\n",
       "      <td>19585</td>\n",
       "      <td>2017</td>\n",
       "      <td>2.30%</td>\n",
       "    </tr>\n",
       "    <tr>\n",
       "      <th>1</th>\n",
       "      <td>Bangladesh</td>\n",
       "      <td>161376708</td>\n",
       "      <td>314656</td>\n",
       "      <td>4992</td>\n",
       "      <td>7.70%</td>\n",
       "    </tr>\n",
       "    <tr>\n",
       "      <th>2</th>\n",
       "      <td>Bhutan</td>\n",
       "      <td>754388</td>\n",
       "      <td>2627</td>\n",
       "      <td>9540</td>\n",
       "      <td>6.40%</td>\n",
       "    </tr>\n",
       "    <tr>\n",
       "      <th>3</th>\n",
       "      <td>India</td>\n",
       "      <td>1352642280</td>\n",
       "      <td>2716746</td>\n",
       "      <td>7874</td>\n",
       "      <td>7%</td>\n",
       "    </tr>\n",
       "    <tr>\n",
       "      <th>4</th>\n",
       "      <td>Maldives</td>\n",
       "      <td>515696</td>\n",
       "      <td>5302</td>\n",
       "      <td>21760</td>\n",
       "      <td>6.90%</td>\n",
       "    </tr>\n",
       "    <tr>\n",
       "      <th>5</th>\n",
       "      <td>Nepal</td>\n",
       "      <td>28095714</td>\n",
       "      <td>28812</td>\n",
       "      <td>2905</td>\n",
       "      <td>6.20%</td>\n",
       "    </tr>\n",
       "    <tr>\n",
       "      <th>6</th>\n",
       "      <td>Pakistan</td>\n",
       "      <td>212228286</td>\n",
       "      <td>278019</td>\n",
       "      <td>5839</td>\n",
       "      <td>3.30%</td>\n",
       "    </tr>\n",
       "    <tr>\n",
       "      <th>7</th>\n",
       "      <td>Sri Lanka</td>\n",
       "      <td>21228763</td>\n",
       "      <td>88223</td>\n",
       "      <td>13397</td>\n",
       "      <td>3%</td>\n",
       "    </tr>\n",
       "  </tbody>\n",
       "</table>\n",
       "</div>"
      ],
      "text/plain": [
       "       Country  Population      GDP  GDPperCapita GrowthRate\n",
       "0  Afghanistan    37171921    19585          2017      2.30%\n",
       "1   Bangladesh   161376708   314656          4992      7.70%\n",
       "2       Bhutan      754388     2627          9540      6.40%\n",
       "3        India  1352642280  2716746          7874         7%\n",
       "4     Maldives      515696     5302         21760      6.90%\n",
       "5        Nepal    28095714    28812          2905      6.20%\n",
       "6     Pakistan   212228286   278019          5839      3.30%\n",
       "7    Sri Lanka    21228763    88223         13397         3%"
      ]
     },
     "execution_count": 17,
     "metadata": {},
     "output_type": "execute_result"
    }
   ],
   "source": [
    "saarc"
   ]
  },
  {
   "cell_type": "code",
   "execution_count": 18,
   "metadata": {},
   "outputs": [
    {
     "name": "stdout",
     "output_type": "stream",
     "text": [
      "<class 'pandas.core.frame.DataFrame'>\n",
      "RangeIndex: 8 entries, 0 to 7\n",
      "Data columns (total 5 columns):\n",
      "Country         8 non-null object\n",
      "Population      8 non-null int64\n",
      "GDP             8 non-null int64\n",
      "GDPperCapita    8 non-null int64\n",
      "GrowthRate      8 non-null object\n",
      "dtypes: int64(3), object(2)\n",
      "memory usage: 448.0+ bytes\n"
     ]
    }
   ],
   "source": [
    "saarc.info()"
   ]
  },
  {
   "cell_type": "code",
   "execution_count": 19,
   "metadata": {},
   "outputs": [
    {
     "data": {
      "text/plain": [
       "0    Afghanistan\n",
       "1     Bangladesh\n",
       "2         Bhutan\n",
       "3          India\n",
       "4       Maldives\n",
       "5          Nepal\n",
       "6       Pakistan\n",
       "7      Sri Lanka\n",
       "Name: Country, dtype: object"
      ]
     },
     "execution_count": 19,
     "metadata": {},
     "output_type": "execute_result"
    }
   ],
   "source": [
    "# Select single column only\n",
    "saarc['Country']"
   ]
  },
  {
   "cell_type": "code",
   "execution_count": 20,
   "metadata": {},
   "outputs": [
    {
     "data": {
      "text/html": [
       "<div>\n",
       "<style scoped>\n",
       "    .dataframe tbody tr th:only-of-type {\n",
       "        vertical-align: middle;\n",
       "    }\n",
       "\n",
       "    .dataframe tbody tr th {\n",
       "        vertical-align: top;\n",
       "    }\n",
       "\n",
       "    .dataframe thead th {\n",
       "        text-align: right;\n",
       "    }\n",
       "</style>\n",
       "<table border=\"1\" class=\"dataframe\">\n",
       "  <thead>\n",
       "    <tr style=\"text-align: right;\">\n",
       "      <th></th>\n",
       "      <th>Country</th>\n",
       "      <th>GDP</th>\n",
       "    </tr>\n",
       "  </thead>\n",
       "  <tbody>\n",
       "    <tr>\n",
       "      <th>0</th>\n",
       "      <td>Afghanistan</td>\n",
       "      <td>19585</td>\n",
       "    </tr>\n",
       "    <tr>\n",
       "      <th>1</th>\n",
       "      <td>Bangladesh</td>\n",
       "      <td>314656</td>\n",
       "    </tr>\n",
       "    <tr>\n",
       "      <th>2</th>\n",
       "      <td>Bhutan</td>\n",
       "      <td>2627</td>\n",
       "    </tr>\n",
       "    <tr>\n",
       "      <th>3</th>\n",
       "      <td>India</td>\n",
       "      <td>2716746</td>\n",
       "    </tr>\n",
       "    <tr>\n",
       "      <th>4</th>\n",
       "      <td>Maldives</td>\n",
       "      <td>5302</td>\n",
       "    </tr>\n",
       "    <tr>\n",
       "      <th>5</th>\n",
       "      <td>Nepal</td>\n",
       "      <td>28812</td>\n",
       "    </tr>\n",
       "    <tr>\n",
       "      <th>6</th>\n",
       "      <td>Pakistan</td>\n",
       "      <td>278019</td>\n",
       "    </tr>\n",
       "    <tr>\n",
       "      <th>7</th>\n",
       "      <td>Sri Lanka</td>\n",
       "      <td>88223</td>\n",
       "    </tr>\n",
       "  </tbody>\n",
       "</table>\n",
       "</div>"
      ],
      "text/plain": [
       "       Country      GDP\n",
       "0  Afghanistan    19585\n",
       "1   Bangladesh   314656\n",
       "2       Bhutan     2627\n",
       "3        India  2716746\n",
       "4     Maldives     5302\n",
       "5        Nepal    28812\n",
       "6     Pakistan   278019\n",
       "7    Sri Lanka    88223"
      ]
     },
     "execution_count": 20,
     "metadata": {},
     "output_type": "execute_result"
    }
   ],
   "source": [
    "saarc[['Country','GDP']]"
   ]
  },
  {
   "cell_type": "markdown",
   "metadata": {},
   "source": [
    "# Statistical Analysis"
   ]
  },
  {
   "cell_type": "code",
   "execution_count": 21,
   "metadata": {},
   "outputs": [
    {
     "name": "stdout",
     "output_type": "stream",
     "text": [
      "2627 2716746 431746.25 931573.569652944\n"
     ]
    }
   ],
   "source": [
    "print(saarc['GDP'].min(),\n",
    "      saarc['GDP'].max(), \n",
    "      saarc['GDP'].mean(),\n",
    "      saarc['GDP'].std())\n",
    "\n"
   ]
  },
  {
   "cell_type": "markdown",
   "metadata": {},
   "source": [
    "# Visualizations"
   ]
  },
  {
   "cell_type": "code",
   "execution_count": 22,
   "metadata": {},
   "outputs": [],
   "source": [
    "import matplotlib.pyplot as plt"
   ]
  },
  {
   "cell_type": "code",
   "execution_count": 23,
   "metadata": {},
   "outputs": [
    {
     "data": {
      "text/plain": [
       "<matplotlib.axes._subplots.AxesSubplot at 0x7fed8c1ae358>"
      ]
     },
     "execution_count": 23,
     "metadata": {},
     "output_type": "execute_result"
    },
    {
     "data": {
      "image/png": "[encoded data removed]",
      "text/plain": [
       "<Figure size 432x288 with 1 Axes>"
      ]
     },
     "metadata": {
      "needs_background": "light"
     },
     "output_type": "display_data"
    }
   ],
   "source": [
    "# a scatter plot comparing Population and GDP\n",
    "# plt.figure(figsize=(100,10))\n",
    "saarc.plot.scatter(x=\"Population\", y=\"GDP\", c=\"Blue\")"
   ]
  },
  {
   "cell_type": "code",
   "execution_count": 24,
   "metadata": {},
   "outputs": [
    {
     "data": {
      "text/plain": [
       "<matplotlib.axes._subplots.AxesSubplot at 0x7fed89796550>"
      ]
     },
     "execution_count": 24,
     "metadata": {},
     "output_type": "execute_result"
    },
    {
     "data": {
      "image/png": "[encoded data removed]",
      "text/plain": [
       "<Figure size 432x288 with 1 Axes>"
      ]
     },
     "metadata": {
      "needs_background": "light"
     },
     "output_type": "display_data"
    }
   ],
   "source": [
    "# a scatter plot comparing GDP and GDP_per_Capita\n",
    "\n",
    "saarc.plot.scatter(x=\"GDP\", y=\"GDPperCapita\", c=\"Blue\")"
   ]
  },
  {
   "cell_type": "markdown",
   "metadata": {},
   "source": [
    "# Exercise\n",
    "Print mean and standard deviation of GDPperCapita"
   ]
  },
  {
   "cell_type": "code",
   "execution_count": 25,
   "metadata": {},
   "outputs": [
    {
     "name": "stdout",
     "output_type": "stream",
     "text": [
      "Mean : 8540.5\n",
      "Standard Deviation : 6480.617937908611\n"
     ]
    }
   ],
   "source": [
    "print('Mean : {}\\nStandard Deviation : {}'.format(saarc['GDPperCapita'].mean(), saarc['GDPperCapita'].std()))"
   ]
  },
  {
   "cell_type": "code",
   "execution_count": null,
   "metadata": {},
   "outputs": [],
   "source": []
  }
 ],
 "metadata": {
  "kernelspec": {
   "display_name": "Python 3",
   "language": "python",
   "name": "python3"
  },
  "language_info": {
   "codemirror_mode": {
    "name": "ipython",
    "version": 3
   },
   "file_extension": ".py",
   "mimetype": "text/x-python",
   "name": "python",
   "nbconvert_exporter": "python",
   "pygments_lexer": "ipython3",
   "version": "3.6.9"
  }
 },
 "nbformat": 4,
 "nbformat_minor": 2
}
