{
 "cells": [
  {
   "cell_type": "markdown",
   "metadata": {},
   "source": [
    "# Python Lists"
   ]
  },
  {
   "cell_type": "code",
   "execution_count": 1,
   "metadata": {},
   "outputs": [
    {
     "name": "stdout",
     "output_type": "stream",
     "text": [
      "['Pokhara', 'Kathmandu', 'Mumbai']\n",
      "Mumbai\n"
     ]
    }
   ],
   "source": [
    "cities = [\"Pokhara\", \"Kathmandu\", \"Mumbai\"]    # Create a list\n",
    "print(cities)\n",
    "print (cities[2])\n"
   ]
  },
  {
   "cell_type": "code",
   "execution_count": 2,
   "metadata": {},
   "outputs": [
    {
     "name": "stdout",
     "output_type": "stream",
     "text": [
      "['Pokhara', 'Kathmandu', 'Mumbai', 'Dhaka']\n",
      "['Pokhara', 'Kathmandu', 'Mumbai']\n"
     ]
    }
   ],
   "source": [
    "cities.append('Dhaka')  # Add a new element to the end of the list\n",
    "print(cities)        \n",
    "last_city = cities.pop()      # Remove and return the last element of the list\n",
    "print(cities)   "
   ]
  },
  {
   "cell_type": "markdown",
   "metadata": {},
   "source": [
    "# Exercise\n",
    "\n",
    "Create a list of your 3 favourite foods. Add your best friend's 2 favourite foods. Print the total list of foods."
   ]
  },
  {
   "cell_type": "code",
   "execution_count": 3,
   "metadata": {},
   "outputs": [
    {
     "name": "stdout",
     "output_type": "stream",
     "text": [
      "My Favorite foods : ['Momo', 'Pizza', 'Burger']\n",
      "Total foods : ['Momo', 'Pizza', 'Burger', 'Fried Rice', 'Sizzler']\n"
     ]
    }
   ],
   "source": [
    "fav_foods = ['Momo', 'Pizza', 'Burger']\n",
    "print('My Favorite foods : {}'.format(fav_foods))\n",
    "best_friend_fav = ['Fried Rice', 'Sizzler']\n",
    "for i in best_friend_fav:\n",
    "    fav_foods.append(i)\n",
    "print('Total foods : {}'.format(fav_foods))"
   ]
  },
  {
   "cell_type": "markdown",
   "metadata": {},
   "source": [
    "\n",
    "\n",
    "# Python Dictionary"
   ]
  },
  {
   "cell_type": "code",
   "execution_count": 4,
   "metadata": {},
   "outputs": [
    {
     "name": "stdout",
     "output_type": "stream",
     "text": [
      "{1: 'a', 2: 'b', 3: 'c'}\n"
     ]
    }
   ],
   "source": [
    "d = {1:'a',2:'b',3:'c'}\n",
    "print(d)"
   ]
  },
  {
   "cell_type": "code",
   "execution_count": 5,
   "metadata": {},
   "outputs": [
    {
     "name": "stdout",
     "output_type": "stream",
     "text": [
      "a\n",
      "a\n"
     ]
    }
   ],
   "source": [
    "#Accessing values using square brackets and keys\n",
    "\n",
    "print (d[1])\n",
    "\n",
    "#Accessing values using get() fucntion\n",
    "\n",
    "print (d.get(1))"
   ]
  },
  {
   "cell_type": "code",
   "execution_count": 6,
   "metadata": {},
   "outputs": [
    {
     "name": "stdout",
     "output_type": "stream",
     "text": [
      "{'Pokhara': 'nice', 'Kathmandu': 'noisy'}\n",
      "nice\n"
     ]
    }
   ],
   "source": [
    "d = {'Pokhara': 'nice', 'Kathmandu': 'noisy'}  # Create a new dictionary with some data\n",
    "print(d)\n",
    "print(d['Pokhara'])       # Get an entry from a dictionary; \n"
   ]
  },
  {
   "cell_type": "code",
   "execution_count": 7,
   "metadata": {},
   "outputs": [
    {
     "name": "stdout",
     "output_type": "stream",
     "text": [
      "True\n"
     ]
    }
   ],
   "source": [
    "print('Pokhara' in d)     # Check if a dictionary has a given key"
   ]
  },
  {
   "cell_type": "code",
   "execution_count": 8,
   "metadata": {},
   "outputs": [
    {
     "name": "stdout",
     "output_type": "stream",
     "text": [
      "False\n"
     ]
    }
   ],
   "source": [
    "print('nice' in d)  "
   ]
  },
  {
   "cell_type": "code",
   "execution_count": 9,
   "metadata": {},
   "outputs": [
    {
     "name": "stdout",
     "output_type": "stream",
     "text": [
      "nice\n"
     ]
    }
   ],
   "source": [
    "print(d['Pokhara'])"
   ]
  },
  {
   "cell_type": "code",
   "execution_count": 10,
   "metadata": {},
   "outputs": [],
   "source": [
    "d['Chitwan'] = 'hot'     # Add an entry in a dictionary"
   ]
  },
  {
   "cell_type": "code",
   "execution_count": 11,
   "metadata": {},
   "outputs": [
    {
     "name": "stdout",
     "output_type": "stream",
     "text": [
      "{'Pokhara': 'nice', 'Kathmandu': 'noisy', 'Chitwan': 'hot'}\n"
     ]
    }
   ],
   "source": [
    "print(d)"
   ]
  },
  {
   "cell_type": "code",
   "execution_count": 12,
   "metadata": {},
   "outputs": [
    {
     "name": "stdout",
     "output_type": "stream",
     "text": [
      "{'Pokhara': 'nice', 'Chitwan': 'hot'}\n"
     ]
    }
   ],
   "source": [
    "del d['Kathmandu']   # Delete an entry in a dictionary\n",
    "print(d)"
   ]
  },
  {
   "cell_type": "code",
   "execution_count": 13,
   "metadata": {},
   "outputs": [
    {
     "name": "stdout",
     "output_type": "stream",
     "text": [
      "Nepal country code is 977 \n",
      "India country code is 91 \n",
      "Bhutan country code is 975 \n"
     ]
    }
   ],
   "source": [
    "# Item access\n",
    "\n",
    "cc = {'Nepal': 977, 'India': 91, 'Bhutan': 975}\n",
    "for country, code in cc.items():\n",
    "    print('%s country code is %d ' % (country, code))"
   ]
  },
  {
   "cell_type": "markdown",
   "metadata": {},
   "source": [
    "# Exercise\n",
    "\n",
    "Create a dictionary of your four favourite words in English as keys and their translation in your native language as values."
   ]
  },
  {
   "cell_type": "code",
   "execution_count": 14,
   "metadata": {},
   "outputs": [
    {
     "name": "stdout",
     "output_type": "stream",
     "text": [
      "English rice means bhat in Nepali\n",
      "English pulses means dal in Nepali\n",
      "English curry means tarkari in Nepali\n",
      "English chicken curry means kukhura ko tarkari in Nepali\n"
     ]
    }
   ],
   "source": [
    "food_dict = {'rice' : 'bhat',\n",
    "             'pulses' : 'dal',\n",
    "            'curry': 'tarkari',\n",
    "            'chicken curry': 'kukhura ko tarkari'}\n",
    "for i,j in food_dict.items():\n",
    "    print('English {} means {} in Nepali'.format(i,j))"
   ]
  }
 ],
 "metadata": {
  "kernelspec": {
   "display_name": "Python 3",
   "language": "python",
   "name": "python3"
  },
  "language_info": {
   "codemirror_mode": {
    "name": "ipython",
    "version": 3
   },
   "file_extension": ".py",
   "mimetype": "text/x-python",
   "name": "python",
   "nbconvert_exporter": "python",
   "pygments_lexer": "ipython3",
   "version": "3.6.9"
  }
 },
 "nbformat": 4,
 "nbformat_minor": 2
}
